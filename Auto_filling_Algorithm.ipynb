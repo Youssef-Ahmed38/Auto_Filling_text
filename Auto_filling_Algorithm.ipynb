{
 "cells": [
  {
   "cell_type": "code",
   "execution_count": 33,
   "id": "d8a3760f",
   "metadata": {},
   "outputs": [],
   "source": [
    "from docx import Document\n",
    "import pandas as pd\n",
    "import doc2docx"
   ]
  },
  {
   "cell_type": "markdown",
   "id": "5f167f43",
   "metadata": {},
   "source": [
    "## Tamplate Code"
   ]
  },
  {
   "cell_type": "code",
   "execution_count": 2,
   "id": "9c1054d2",
   "metadata": {},
   "outputs": [],
   "source": [
    "from docx import Document\n",
    "\n",
    "def fill_invitation(template_path, output_path, data):\n",
    "    doc = Document(template_path)\n",
    "    \n",
    "    for paragraph in doc.paragraphs:\n",
    "        for key, value in data.items():\n",
    "            if key in paragraph.text:\n",
    "                for run in paragraph.runs:\n",
    "                    run.text = run.text.replace(key, value)\n",
    "    \n",
    "    doc.save(output_path)"
   ]
  },
  {
   "cell_type": "code",
   "execution_count": null,
   "id": "909499ef",
   "metadata": {},
   "outputs": [],
   "source": [
    "if __name__ == '__main__':\n",
    "# Example usage:\n",
    "    template_path = 'invitation_letter2.docx'\n",
    "    output_path = 'filled222.docx'\n",
    "    data = {\n",
    "        \"[Insert Colleague’s Name Here]\": \"John Doe\",\n",
    "        \"[Insert Agency Name]\": \"Environmental Protection Agency\",\n",
    "        \"[Insert Meeting Location Here]\": \"EPA Headquarters\",\n",
    "        \"[Insert Date Here]\": \"April 30, 2024\",\n",
    "        \"[Insert Time Here]\": \"9:00 AM - 5:00 PM\",\n",
    "        \"[Insert Community Here]\": \"Green Valley\",\n",
    "        \"[Insert Time]\": \"two hours\",\n",
    "        \"[Insert Contact Name]\": \"Jane Smith\",\n",
    "        \"[Insert Address Here]\": \"123 Main Street, Green Valley\",\n",
    "        \"[Insert Contact Information Here]\": \"555-1234, jsmith@example.com\",\n",
    "        \"[Insert Name Here]\": \"Dr. Emily Johnson\"\n",
    "    }\n",
    "\n",
    "fill_invitation(template_path, output_path, data)\n"
   ]
  },
  {
   "cell_type": "markdown",
   "id": "3a2683ce",
   "metadata": {},
   "source": [
    "# replace underscore with keys"
   ]
  },
  {
   "cell_type": "code",
   "execution_count": 48,
   "id": "31a6aa08",
   "metadata": {},
   "outputs": [
    {
     "name": "stdout",
     "output_type": "stream",
     "text": [
      "Filled invitation saved to: filled222.docx\n"
     ]
    }
   ],
   "source": [
    "import os\n",
    "import re\n",
    "from docx import Document\n",
    "\n",
    "def fill_invitation(template_path, output_path, data):\n",
    "    doc = Document(template_path)\n",
    "    \n",
    "    # Iterate over the data dictionary and replace placeholders\n",
    "    for key, value in data.items():\n",
    "        for paragraph in doc.paragraphs:\n",
    "            paragraph.text = paragraph.text.replace(key, value)\n",
    "    \n",
    "    doc.save(output_path)\n",
    "\n",
    "def find_blanks_in_doc(doc_path):\n",
    "    doc = Document(doc_path)\n",
    "    blanks_pattern = re.compile(r\"_+\")  # Pattern for one or more underscores\n",
    "    blanks_list = []\n",
    "\n",
    "    for paragraph in doc.paragraphs:\n",
    "        blanks = blanks_pattern.findall(paragraph.text)\n",
    "        blanks_list.extend(blanks)\n",
    "\n",
    "    return blanks_list\n",
    "\n",
    "if __name__ == '__main__':\n",
    "    template_path = 'invitation_letter.docx'\n",
    "    output_path = 'filled222.docx'\n",
    "\n",
    "    # Validate input paths\n",
    "    if not os.path.isfile(template_path):\n",
    "        print(\"Error: Template file not found.\")\n",
    "        exit()\n",
    "    \n",
    "    blanks_list = find_blanks_in_doc(template_path)\n",
    "    data_values = [\" [Key] \"] * len(blanks_list)  # Example data values\n",
    "\n",
    "    # Check if the number of blanks matches the number of data values\n",
    "    if len(blanks_list) != len(data_values):\n",
    "        print(\"Error: Number of blanks does not match number of data values.\")\n",
    "        exit()\n",
    "    \n",
    "    # Pair blanks with data values using zip\n",
    "    data = {blank: value for blank, value in zip(blanks_list, data_values)}\n",
    "\n",
    "    fill_invitation(template_path, output_path, data)\n",
    "\n",
    "    print(\"Filled invitation saved to:\", output_path)\n"
   ]
  },
  {
   "cell_type": "markdown",
   "id": "ce6231c1",
   "metadata": {},
   "source": [
    "# replace extra underscore with space"
   ]
  },
  {
   "cell_type": "code",
   "execution_count": 49,
   "id": "04ed15c8",
   "metadata": {},
   "outputs": [
    {
     "name": "stdout",
     "output_type": "stream",
     "text": [
      "Blanks array: ['__', '__', '__', '__', '__', '_', '__', '__', '__', '_']\n",
      "Data values: [' ']\n",
      "Error: Number of blanks does not match number of data values.\n",
      "10\n",
      "1\n",
      "Adjusted Data values: [' ', ' ', ' ', ' ', ' ', ' ', ' ', ' ', ' ', ' ']\n",
      "Blanks array: ['__', '__', '__', '__', '__', '_', '__', '__', '__', '_']\n"
     ]
    }
   ],
   "source": [
    "import re\n",
    "from docx import Document\n",
    "\n",
    "def fill_invitation(template_path, output_path, data):\n",
    "    doc = Document(template_path)\n",
    "    \n",
    "    # Iterate over the data dictionary and detected blanks\n",
    "    for key, value in data.items():\n",
    "        for paragraph in doc.paragraphs:\n",
    "            paragraph.text = paragraph.text.replace(key, value)  # Replace blank with corresponding value\n",
    "    \n",
    "    doc.save(output_path)\n",
    "\n",
    "def find_blanks_in_doc(doc_path):\n",
    "    doc = Document(doc_path)\n",
    "    blanks_pattern = re.compile(r\"_+\")  # Pattern for one or more underscores\n",
    "    blanks_array = []\n",
    "\n",
    "    for paragraph in doc.paragraphs:\n",
    "        blanks = blanks_pattern.findall(paragraph.text)\n",
    "        blanks_array.extend(blanks)\n",
    "\n",
    "    return blanks_array\n",
    "\n",
    "if __name__ == '__main__':\n",
    "    template_path = 'filled222.docx'\n",
    "    output_path = 'filled333.docx'\n",
    "\n",
    "    blanks_array = find_blanks_in_doc(template_path)\n",
    "    data = {f\"{blank}\": \"\" for blank in blanks_array}\n",
    "\n",
    "    # Example data, you should replace these values with your actual data\n",
    "    data_values = [\" \"]\n",
    "    print(\"Blanks array:\", blanks_array)\n",
    "    print(\"Data values:\", data_values)\n",
    "\n",
    "    # Check if the number of blanks matches the number of data values\n",
    "    if len(blanks_array) != len(data_values):\n",
    "        print(\"Error: Number of blanks does not match number of data values.\")\n",
    "        print(len(blanks_array))\n",
    "        print(len(data_values))\n",
    "        difference = len(blanks_array) - len(data_values)\n",
    "        if difference > 0:\n",
    "            for i in range(difference):\n",
    "                data_values.append(\" \")\n",
    "        elif difference < 0:\n",
    "            for i in range(abs(difference)):\n",
    "                data_values.pop()  # Remove extra elements\n",
    "        print(\"Adjusted Data values:\", data_values)\n",
    "\n",
    "    # Fill in data values\n",
    "    for i, blank in enumerate(blanks_array):\n",
    "        data[blank] = data_values[i]  # Assign each value to its corresponding blank\n",
    "\n",
    "    fill_invitation(template_path, output_path, data)\n",
    "\n",
    "    print(\"Blanks array:\", blanks_array)\n"
   ]
  },
  {
   "cell_type": "markdown",
   "id": "5b6d92b4",
   "metadata": {},
   "source": [
    "# replace extra keys with space"
   ]
  },
  {
   "cell_type": "code",
   "execution_count": 1,
   "id": "05d1d9cf",
   "metadata": {},
   "outputs": [
    {
     "name": "stdout",
     "output_type": "stream",
     "text": [
      "Placeholders found in the document: []\n",
      "Error: Number of placeholders does not match number of data values.\n",
      "Filled document saved to: filled4.docx\n"
     ]
    }
   ],
   "source": [
    "import re\n",
    "from docx import Document\n",
    "\n",
    "def fill_placeholders(template_path, output_path, data):\n",
    "    doc = Document(template_path)\n",
    "\n",
    "    # Iterate over the data dictionary and replace placeholders\n",
    "    for key, value in data.items():\n",
    "        for paragraph in doc.paragraphs:\n",
    "            # Replace placeholder with corresponding value\n",
    "            paragraph.text = paragraph.text.replace(key, value)\n",
    "\n",
    "    # Save the filled document\n",
    "    doc.save(output_path)\n",
    "    print(\"Filled document saved to:\", output_path)\n",
    "\n",
    "def find_blanks_in_doc(doc_path):\n",
    "    doc = Document(doc_path)\n",
    "    blanks_pattern = re.compile(r\"\\[Key\\] \\[Key\\]\")  # Pattern for placeholders\n",
    "    blanks_array = []\n",
    "\n",
    "    for paragraph in doc.paragraphs:\n",
    "        blanks = blanks_pattern.findall(paragraph.text)\n",
    "        blanks_array.extend(blanks)\n",
    "\n",
    "    return blanks_array\n",
    "\n",
    "if __name__ == '__main__':\n",
    "    template_path = 'filled333.docx'\n",
    "    output_path = 'filled4.docx'\n",
    "\n",
    "    # Example data, you should replace these values with your actual data\n",
    "    data_values = [\"10 \"]\n",
    "    \n",
    "    # Find placeholders in the template document\n",
    "    blanks_array = find_blanks_in_doc(template_path)\n",
    "    print(\"Placeholders found in the document:\", blanks_array)\n",
    "\n",
    "    # Check if the number of placeholders matches the number of data values\n",
    "    if len(blanks_array) != len(data_values):\n",
    "        print(\"Error: Number of placeholders does not match number of data values.\")\n",
    "        exit()\n",
    "\n",
    "    # Create data dictionary\n",
    "    data = {blank: value for blank, value in zip(blanks_array, data_values)}\n",
    "\n",
    "    # Fill placeholders in the document\n",
    "    fill_placeholders(template_path, output_path, data)\n"
   ]
  },
  {
   "cell_type": "code",
   "execution_count": null,
   "id": "81909926",
   "metadata": {},
   "outputs": [],
   "source": [
    "import re\n",
    "from docx import Document\n",
    "\n",
    "template_path = 'filled333.docx'\n",
    "output_path = 'filled4.docx'\n",
    "\n",
    "# Open the .docx file\n",
    "doc = Document(template_path)\n",
    "\n",
    "# Initialize a new Document to hold the cleaned text\n",
    "cleaned_doc = Document()\n",
    "\n",
    "# Define a regex pattern to match placeholders like '[Key]'\n",
    "placeholder_pattern = re.compile(r'\\[Key\\] +\\[Key\\]')  # Use + for one or more spaces\n",
    "\n",
    "# Iterate through each paragraph in the original document\n",
    "for paragraph in doc.paragraphs:\n",
    "    # Create a new paragraph in the cleaned document\n",
    "    new_paragraph = cleaned_doc.add_paragraph()\n",
    "\n",
    "    # Iterate through each run in the original paragraph\n",
    "    for run in paragraph.runs:\n",
    "        # Create a new run in the new paragraph\n",
    "        new_run = new_paragraph.add_run()\n",
    "\n",
    "        # Copy the style of the original run to the new run\n",
    "        new_run.style = run.style\n",
    "\n",
    "        # Initialize cleaned_text inside the loop\n",
    "        cleaned_text = \"\"\n",
    "\n",
    "        # Apply the regular expression to replace duplicates in the text\n",
    "        cleaned_text = re.sub(placeholder_pattern, '[Key]', run.text)\n",
    "\n",
    "        # Add the cleaned text to the new run\n",
    "        new_run.text = cleaned_text\n",
    "\n",
    "# Save the cleaned document\n",
    "cleaned_doc.save(output_path)\n",
    "\n",
    "# Print a message indicating the document has been saved\n",
    "print(\"Cleaned document saved to:\", output_path)\n"
   ]
  },
  {
   "cell_type": "code",
   "execution_count": 48,
   "id": "3cda8521",
   "metadata": {},
   "outputs": [
    {
     "name": "stdout",
     "output_type": "stream",
     "text": [
      "Cleaned document saved to: filled4.docx\n"
     ]
    }
   ],
   "source": [
    "import re\n",
    "from docx import Document\n",
    "\n",
    "template_path = 'filled333.docx'\n",
    "output_path = 'filled4.docx'\n",
    "\n",
    "# Open the .docx file\n",
    "doc = Document(template_path)\n",
    "\n",
    "# Define a regex pattern to match placeholders like '[Key]'\n",
    "placeholder_pattern = re.compile(r'\\[Key\\] +\\[Key\\]')  # Use + for one or more spaces\n",
    "\n",
    "# Iterate through each paragraph in the original document\n",
    "for paragraph in doc.paragraphs:\n",
    "    # Iterate through each run in the paragraph\n",
    "    for run in paragraph.runs:\n",
    "        # Apply the regular expression to replace duplicates in the text of the run\n",
    "        run.text = re.sub(placeholder_pattern, '[Key]', run.text)\n",
    "\n",
    "# Save the modified document\n",
    "doc.save(output_path)\n",
    "\n",
    "# Print a message indicating the document has been saved\n",
    "print(\"Cleaned document saved to:\", output_path)\n"
   ]
  },
  {
   "cell_type": "markdown",
   "id": "cee15905",
   "metadata": {},
   "source": [
    "# Replace keys with values"
   ]
  },
  {
   "cell_type": "code",
   "execution_count": 31,
   "id": "8f9681d3",
   "metadata": {},
   "outputs": [],
   "source": [
    "from docx import Document\n",
    "\n",
    "def fill_invitation(template_path, output_path, data):\n",
    "    doc = Document(template_path)\n",
    "    \n",
    "    for key, values in data.items():\n",
    "        for value in values:\n",
    "            for paragraph in doc.paragraphs:\n",
    "                if key in paragraph.text:\n",
    "                    paragraph.text = paragraph.text.replace(key, value, 1)\n",
    "                    break  # Exit the loop after replacing the placeholder once\n",
    "    \n",
    "    doc.save(output_path)\n",
    "\n",
    "if __name__ == '__main__':\n",
    "    template_path = 'filled4.docx'\n",
    "    output_path = 'filled444.docx'\n",
    "    data = {\n",
    "        \"[Key]\": [\"John Doe\", \"Environmental Protection Agency\", \"EPA Headquarters\", \"30-Apr-24\", \"9:00 AM\", \"5:00 PM\", \"Environmental Protection Agency\", \"Green Valley\", \"two hours\",\"Environmental Protection Agency\",\"smart Village\",\"2-fab-2024\", \"Jane Smith\", \"123 Main Street, Green Valley\", \"Tom Green\", \"555-6789, tgreen@example.com\", \"Dr. Emily Johnson\"]\n",
    "    }\n",
    "\n",
    "\n",
    "    fill_invitation(template_path, output_path, data)\n"
   ]
  },
  {
   "cell_type": "code",
   "execution_count": 40,
   "id": "2070f685",
   "metadata": {},
   "outputs": [],
   "source": [
    "from docx import Document\n",
    "\n",
    "def fill_invitation(template_path, output_path, data):\n",
    "    doc = Document(template_path)\n",
    "    \n",
    "    for key, values in data.items():\n",
    "        for value in values:\n",
    "            for paragraph in doc.paragraphs:\n",
    "                if key in paragraph.text:\n",
    "                    paragraph.text = paragraph.text.replace(key, value, 1)\n",
    "                    break  # Exit the loop after replacing the placeholder once\n",
    "    \n",
    "    doc.save(output_path)\n",
    "    \n",
    "\n",
    "\n",
    "if __name__ == '__main__':\n",
    "    template_path = 'filled4.docx'\n",
    "    output_path = 'filled444.docx'\n",
    "    data = {\n",
    "        \"[Key]\": [\"John Doe\", \"Environmental Protection Agency\", \"EPA Headquarters\", \"30-Apr-24\", \"9:00 AM\", \"5:00 PM\", \"Environmental Protection Agency\", \"Green Valley\", \"two hours\",\"Environmental Protection Agency\",\"smart Village\",\"2-fab-2024\", \"Jane Smith\", \"123 Main Street, Green Valley\", \"Tom Green\", \"555-6789, tgreen@example.com\", \"Dr. Emily Johnson\"]\n",
    "    }\n",
    "\n",
    "\n",
    "    fill_invitation(template_path, output_path, data)\n"
   ]
  },
  {
   "cell_type": "markdown",
   "id": "9af45d2b",
   "metadata": {},
   "source": [
    "# fill Text from csv file "
   ]
  },
  {
   "cell_type": "code",
   "execution_count": 54,
   "id": "3dfc32da",
   "metadata": {},
   "outputs": [
    {
     "data": {
      "text/plain": [
       "Index(['colleague_name', 'agency_name', 'meeting_location', 'date',\n",
       "       'start_time', 'end_time', 'agency_name.1', 'community_name',\n",
       "       'time_frame', 'agency_name.2', 'meeting_location.1', 'date.1',\n",
       "       'contact_name', 'contact_address', 'contact_name.1',\n",
       "       'contact_information'],\n",
       "      dtype='object')"
      ]
     },
     "execution_count": 54,
     "metadata": {},
     "output_type": "execute_result"
    }
   ],
   "source": [
    "df = pd.read_csv('invitation_data.csv')\n",
    "df.columns"
   ]
  },
  {
   "cell_type": "markdown",
   "id": "09f22765",
   "metadata": {},
   "source": [
    "### Manual"
   ]
  },
  {
   "cell_type": "code",
   "execution_count": 47,
   "id": "31f3d38b",
   "metadata": {},
   "outputs": [],
   "source": [
    "def generate_invitations_from_csv(csv_path,tamplate_path):\n",
    "    df = pd.read_csv(\"invitation_data.csv\")\n",
    "    for idx, row in df.iterrows():\n",
    "        data = {\n",
    "        \"[Key]\": [\n",
    "            row[\"colleague_name\"],\n",
    "            row[\"agency_name\"],\n",
    "            row[\"meeting_location\"],\n",
    "            row[\"date\"],\n",
    "            row[\"start_time\"],\n",
    "            row[\"end_time\"],\n",
    "            row[\"agency_name\"],\n",
    "            row[\"community_name\"],\n",
    "            row[\"time_frame\"],\n",
    "            row[\"agency_name\"],\n",
    "            row[\"meeting_location\"],\n",
    "            row[\"date\"],\n",
    "            row[\"contact_name\"],\n",
    "            row[\"contact_address\"],\n",
    "            row[\"contact_name\"],\n",
    "            row[\"contact_information\"],\n",
    "            row[\"sender_name\"]\n",
    "        ]\n",
    "    }\n",
    "        output_path = f'invitation_filled {idx + 10}.docx'\n",
    "        fill_invitation(template_path, output_path, data)"
   ]
  },
  {
   "cell_type": "code",
   "execution_count": 46,
   "id": "abc5898c",
   "metadata": {},
   "outputs": [],
   "source": [
    "if __name__ == '__main__':\n",
    "    csv_path = 'invitation_data.csv'\n",
    "    tamplate_path = 'filled4.docx'\n",
    "    generate_invitations_from_csv(csv_path,tamplate_path)"
   ]
  },
  {
   "cell_type": "markdown",
   "id": "972bf66d",
   "metadata": {},
   "source": [
    "### Automatic"
   ]
  },
  {
   "cell_type": "code",
   "execution_count": 55,
   "id": "aaab7def",
   "metadata": {},
   "outputs": [],
   "source": [
    "def generate_invitations_from_csv(csv_path, template_path):\n",
    "    df = pd.read_csv(csv_path)\n",
    "    for idx, row in df.iterrows():\n",
    "        data = {\"[Key]\": []}\n",
    "        for column in df.columns:\n",
    "            data[\"[Key]\"].append(row[column])\n",
    "\n",
    "        output_path = f'invitation_filled_{idx + 10}.docx'\n",
    "        fill_invitation(template_path, output_path, data)\n",
    "if __name__ == '__main__':\n",
    "    csv_path = 'invitation_data.csv'\n",
    "    tamplate_path = 'filled4.docx'\n",
    "    generate_invitations_from_csv(csv_path,tamplate_path)"
   ]
  },
  {
   "cell_type": "code",
   "execution_count": 56,
   "id": "f4c5776d",
   "metadata": {},
   "outputs": [],
   "source": [
    " for idx, row in df.iterrows():\n",
    "        data = {}\n",
    "        for column in df.columns:\n",
    "            data[column] = row[column]"
   ]
  }
 ],
 "metadata": {
  "kernelspec": {
   "display_name": "Python 3 (ipykernel)",
   "language": "python",
   "name": "python3"
  },
  "language_info": {
   "codemirror_mode": {
    "name": "ipython",
    "version": 3
   },
   "file_extension": ".py",
   "mimetype": "text/x-python",
   "name": "python",
   "nbconvert_exporter": "python",
   "pygments_lexer": "ipython3",
   "version": "3.11.4"
  }
 },
 "nbformat": 4,
 "nbformat_minor": 5
}
